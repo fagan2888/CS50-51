{
 "cells": [
  {
   "cell_type": "markdown",
   "metadata": {
    "colab_type": "text",
    "id": "nEeXrnvD96Z3"
   },
   "source": [
    "# FA Assignment 1: Would You Rather"
   ]
  },
  {
   "cell_type": "markdown",
   "metadata": {
    "colab_type": "text",
    "id": "i-eF0zU496Z5"
   },
   "source": [
    "## Overview\n",
    "\n",
    "For this assignment, you will craft arguments in favor of each side of a *would you rather* question. You must then analyze the arguments in full, making strong applications of all of the logical thinking HCs. The arguments can be as simple or as sophisticated as you wish! Keep in mind that more complicated arguments will require a richer, more careful analysis. This may be a good way to showcase your knowledge, but could also lead to more flaws. Moreover, in pursuit of the appropriate difficulty level, you’ll notice several *Optional* problems throughout the assignment to challenge yourself. These will only be scored if they are completed correctly with thorough explanation. If you attempt an optional challenge but do not succeed, you will not be penalized with a low score.\n",
    "\n",
    "\n",
    "**Please follow the formatting guidelines in the assignment instructions on Forum.** For optimal formatting, please use [Markdown and Code cells appropriately](https://drive.google.com/file/d/1RHoHCt_yWjOu7pGSCgPnLMJqY5H-w8Uf/view?usp=sharing) (more tips in this Markdown [cheatsheet](https://www.ibm.com/support/knowledgecenter/en/SSGNPV_1.1.3/dsx/markd-jupyter.html)) and ensure ALL components of your work (including written analysis, images, tables, and code) are presented professionally. Anything marked as optional will only be scored if it is completed correctly and fully explained. \n",
    "\n",
    "\n",
    "You can find your assigned *would you rather* question [in this spreadsheet](https://docs.google.com/spreadsheets/d/1SLs-8D5B9LYPloOODnln_0b5GSeN7JgAwMRRqakmkwg/edit#gid=0)"
   ]
  },
  {
   "cell_type": "markdown",
   "metadata": {
    "colab_type": "text",
    "id": "GGnZmztbrBe5"
   },
   "source": [
    "## HC Guidelines\n",
    "\n",
    "You will be graded on #deduction, #induction, #fallacies, #algorithms, #selfawareness, and #scienceoflearning as indicated above in square brackets, at the discretion of the professor. \"Footnotes\" for these **targeted HCs** are *not required*. Please refer to the rubrics and your class notes as guidelines for these HCs. The optional challenges will only be given extra HC scores for correct and well-explained implementations that demonstrate deep knowledge.\n",
    "\n",
    "\n",
    "If you believe that you have strong applications of **other HCs**, such as #breakitdown or #connotation, please call this out. Doing so is an important part of reflecting on your learning. It should be an occasion for #selfawareness and #professionalism. *However, since footnotes are not possible in Jupyter notebooks, simply provide the hashtag of the HC and a 1-3 sentence explanation of your application in a Markdown cell*. Help the professor understand exactly why this constitutes a strong application. For guidelines on how to integrate HCs in your work and write meaningful footnotes, please see [this guide](https://docs.google.com/document/d/1s7yOVOtMIaHQdKLeRmZbq1gRqwJKfezBsfru9Q6PcHw/edit?usp=sharing), “Addressing HCs in your work,” particularly section 3. For more samples of effective annotations, refer to the footnotes that go along with each HC example in the Outcome Index, written in square brackets."
   ]
  },
  {
   "cell_type": "markdown",
   "metadata": {
    "colab_type": "text",
    "id": "JR5RblKV96Z8"
   },
   "source": [
    "## Part 1\n",
    "#### In this part, you will work with *one side* of the argument only. For example, if you question was, \"Would you rather code in Python or code in Java?\" then *one side* would be \"I would rather code in Python.\" For the chosen side of the argument, craft two brief arguments using DEDUCTIVE REASONING. One argument should be a valid deduction and one should contain a fallacy. Write these arguments in natural language in simple terms with clear use of logical connectives and atomic sentences so that it is amenable for the following analysis. [#deduction, #fallacies, #algorithms]\n",
    "\n"
   ]
  },
  {
   "cell_type": "markdown",
   "metadata": {
    "colab_type": "text",
    "id": "6iJbP1rO96Z9"
   },
   "source": [
    "I will have terrible long-term memory .Without good long-term memory, I cannot develop new skills. If I went to Minerva, I want to develop new skills. I went to Minerva. If I want to develop new skills but cannot, I would rather have terrible short-term memory than have terrible long-term memory"
   ]
  },
  {
   "cell_type": "markdown",
   "metadata": {
    "colab_type": "text",
    "id": "UIw4lSlc96Z9"
   },
   "source": [
    "Without good long-term memory, I would not be able to remember my grandma. Therefore, I would rather have terrible short-term memory than have terrible long-term memory"
   ]
  },
  {
   "cell_type": "markdown",
   "metadata": {
    "colab_type": "text",
    "id": "Jwoq0sui96Z-"
   },
   "source": [
    "#### 1. Explain why these are deductive arguments by identifying the features of deductive reasoning present (<75 words).\n",
    "\n"
   ]
  },
  {
   "cell_type": "markdown",
   "metadata": {
    "colab_type": "text",
    "id": "_CeU7t0h96Z-"
   },
   "source": [
    "They are deductive because they are meant to represent a certain relationship, in which the conclusion must follow from the premises. They might not be valid, but they pretend to be."
   ]
  },
  {
   "cell_type": "markdown",
   "metadata": {
    "colab_type": "text",
    "id": "LPbvay6q96Z_"
   },
   "source": [
    "#### 2.1 For the valid deduction, translate your argument into symbolic logic.\n",
    "\n"
   ]
  },
  {
   "cell_type": "markdown",
   "metadata": {
    "colab_type": "text",
    "id": "Yj4I2CnTrBe-"
   },
   "source": [
    "$P$: I have good long-term memory\n",
    "\n",
    "$Q$: I can develop new skills\n",
    "\n",
    "$R$: I went to minerva\n",
    "\n",
    "$S$: I want to develop new skills\n",
    "\n",
    "$T$: I would rather have terrible short-term memory than have terrible long-term memory\n",
    "\n",
    "1. $\\neg P$\n",
    "2. $\\neg P \\implies \\neg Q$\n",
    "3. $R \\implies S$\n",
    "4. $R$\n",
    "5. $(S \\wedge \\neg Q) \\implies T$\n",
    "\n",
    "conclusion: $T$"
   ]
  },
  {
   "cell_type": "markdown",
   "metadata": {
    "colab_type": "text",
    "id": "kAJ6wsTu96aA"
   },
   "source": [
    "#### 2.2 Choose two sentences from the argument and negate them using DeMorgan’s laws. Translate the negations back into English.\n",
    "\n"
   ]
  },
  {
   "cell_type": "markdown",
   "metadata": {
    "colab_type": "text",
    "id": "Rv-KVvO4rBfA"
   },
   "source": [
    "3. $\\neg(R \\implies S) \\equiv R \\wedge \\neg S$\n",
    "\n",
    "I went to Minerva and I do not want to develop new skills\n",
    "5. $\\neg[(S \\wedge \\neg Q) \\implies T] \\equiv (S \\wedge \\neg Q) \\wedge \\neg T$\n",
    "\n",
    "I want to develop new skills but cannot and I would rather have terrible long-term memory than have terrible short-term memory"
   ]
  },
  {
   "cell_type": "markdown",
   "metadata": {
    "colab_type": "text",
    "id": "kRfMhJEKrBfB"
   },
   "source": [
    "#### 2.3 Prove that the argument is indeed valid using a formal proof.\n",
    "\n"
   ]
  },
  {
   "cell_type": "markdown",
   "metadata": {
    "colab_type": "text",
    "id": "xVSCP6yCrBfD"
   },
   "source": [
    "6. $S$ Modus ponens, 3, 4\n",
    "7. $\\neg Q$ Modus ponens, 1, 2\n",
    "8. $S \\wedge \\neg Q$ Adjunction 6, 7\n",
    "9. $T$ Modus Ponens 8, 5"
   ]
  },
  {
   "cell_type": "markdown",
   "metadata": {
    "colab_type": "text",
    "id": "V7WJ4OZZrBfE"
   },
   "source": [
    "#### 2.4 *Optional*: Negate the entire argument and evaluate its validity.\n",
    "\n"
   ]
  },
  {
   "cell_type": "markdown",
   "metadata": {
    "colab_type": "text",
    "id": "hr_Y3mWKrBfF"
   },
   "source": []
  },
  {
   "cell_type": "markdown",
   "metadata": {
    "colab_type": "text",
    "id": "SVbul8AVrBfF"
   },
   "source": [
    "#### 2.5 Comment on the soundness of the argument (<100 words).\n",
    "\n"
   ]
  },
  {
   "cell_type": "markdown",
   "metadata": {
    "colab_type": "text",
    "id": "IZCLHkXsrBfG"
   },
   "source": [
    "The argument is moderately sound. The weak point is sentence 5. There are a lot of reasons to prefer either long-term or short-term memory"
   ]
  },
  {
   "cell_type": "markdown",
   "metadata": {
    "colab_type": "text",
    "id": "Vrg0BWjU96aA"
   },
   "source": [
    "#### 3.1 Use Python to assess the validity of the argument. The code should output whether or not the argument is valid (it should be valid!) based on a truth table. You may use a similar code from [lesson 3.1](https://drive.google.com/file/d/1baT_GaVfav_GHkjJiSpdKzWH4vUK9TG4/view?usp=sharing), simply adapting it to your argument, or if you wish, write your own from scratch. The code from lesson 2.2 may also be helpful. Either way, you need to include clearly annotated comments to explain what the code is doing and how it is using logic. Read this [resource](https://mikegrouchy.com/blog/yes-your-code-does-need-comments) about the importance of comments and [this one](https://realpython.com/python-comments-guide/) for further guidance. You should include in-line comments as well as a holistic explanation of the code. In particular, you should explain how the truth table is used to ascertain validity and how this logic concept is incorporated in the code. You are not required to print the full truth table, but it may provide you with a helpful sanity check. "
   ]
  },
  {
   "cell_type": "code",
   "execution_count": 28,
   "metadata": {
    "colab": {},
    "colab_type": "code",
    "id": "c6GGeTPo96aB"
   },
   "outputs": [],
   "source": [
    "# See 3.3."
   ]
  },
  {
   "cell_type": "markdown",
   "metadata": {
    "colab_type": "text",
    "id": "CIZxbM8nrBfN"
   },
   "source": [
    "#### 3.2 *Optional challenge*: Write your own Python code that will create a truth table for any logical statement involving any number of atomic sentences and connectives. You can decide on the input/output format, but explain in detail what you are doing and why."
   ]
  },
  {
   "cell_type": "code",
   "execution_count": 10,
   "metadata": {
    "colab": {},
    "colab_type": "code",
    "id": "0DO3xJrLrBfO"
   },
   "outputs": [
    {
     "name": "stdout",
     "output_type": "stream",
     "text": [
      "0\t1\t2\tSentence\n",
      "True\tTrue\tTrue\tTrue\n",
      "True\tTrue\tFalse\tTrue\n",
      "True\tFalse\tTrue\tTrue\n",
      "True\tFalse\tFalse\tFalse\n",
      "False\tTrue\tTrue\tFalse\n",
      "False\tTrue\tFalse\tFalse\n",
      "False\tFalse\tTrue\tFalse\n",
      "False\tFalse\tFalse\tFalse\n"
     ]
    }
   ],
   "source": [
    "# Our Input will be a statement function that inputs a list and a number indicating the number of atomic sentences we need\n",
    "# For example:\n",
    "def sentence1(truth_values):\n",
    "    return truth_values[0] and (truth_values[1] or truth_values[2])\n",
    "\n",
    "# We will create the truth values for each row recursively\n",
    "def create_truth_table(num, sentence):\n",
    "    for i in range(num):\n",
    "        print(str(i) + \"\\t\", end = \"\")\n",
    "    print(\"Sentence\")\n",
    "    create_truth_table_recursive(num, True, [], sentence)\n",
    "    create_truth_table_recursive(num, False, [], sentence)\n",
    "\n",
    "# This is the recursive function that does most of the work\n",
    "def create_truth_table_recursive(num, val, truth_values, sentence):\n",
    "    new_truth_values = truth_values[:]\n",
    "    new_truth_values.append(val)\n",
    "    if num == 1:\n",
    "        for truth_value in new_truth_values:\n",
    "            print(str(truth_value) + \"\\t\", end = \"\")\n",
    "        print(sentence1(new_truth_values))\n",
    "    else:\n",
    "        create_truth_table_recursive(num - 1, True, new_truth_values, sentence)\n",
    "        create_truth_table_recursive(num - 1, False, new_truth_values, sentence)\n",
    "\n",
    "    \n",
    "create_truth_table(3, sentence1)\n"
   ]
  },
  {
   "cell_type": "markdown",
   "metadata": {
    "colab_type": "text",
    "id": "CC_6UoKlrBfU"
   },
   "source": [
    "#### 3.3 *Optional super challenge*: Write your own Python code that will check the validity of any set of logical sentences that form an argument. Explain in detail how your code works. You can decide on the input/output format, but explain in detail what you are doing and why."
   ]
  },
  {
   "cell_type": "code",
   "execution_count": 27,
   "metadata": {
    "colab": {},
    "colab_type": "code",
    "id": "ueNROMgKrBfW"
   },
   "outputs": [
    {
     "name": "stdout",
     "output_type": "stream",
     "text": [
      "Argument is valid\n"
     ]
    }
   ],
   "source": [
    "# Our Input will be a list of statement functions that input a list, the last of which will be the conclusion\n",
    "# and a number indicating the number of atomic sentences we need\n",
    "# I will input my argument to evaluate it\n",
    "\n",
    "def implication(a,b):\n",
    "    # inputs two Boolean variables representing atomic sentences a, b\n",
    "    # outputs the truth value of the conditional a --> b\n",
    "    return not a and b\n",
    "\n",
    "def sentence1(truth_values):\n",
    "    return not truth_values[0]\n",
    "\n",
    "def sentence2(truth_values):\n",
    "    return implication(not truth_values[0], not truth_values[1])\n",
    "\n",
    "def sentence3(truth_values):\n",
    "    return implication(truth_values[2], truth_values[3])\n",
    "\n",
    "def sentence4(truth_values):\n",
    "    return truth_values[2]\n",
    "\n",
    "def sentence5(truth_values):\n",
    "    return implication(truth_values[3] and not truth_values[1], truth_values[4])\n",
    "\n",
    "def conclusion(truth_values):\n",
    "    return truth_values[4]\n",
    "\n",
    "\n",
    "sentences = [sentence1, sentence2, sentence3, sentence4, sentence5, conclusion]\n",
    "\n",
    "\n",
    "# We will create the truth values for each row recursively. Each of the functions we call will return False\n",
    "# If the premises are true but not the conclusion. We will print that it is not valid if we get that\n",
    "def validity_checker(num, sentences):\n",
    "    if not create_truth_values_recursive(num, True, [], sentences):\n",
    "        print(\"Argument is not valid\")\n",
    "    elif not create_truth_values_recursive(num, False, [], sentences):\n",
    "        print(\"Argument is not valid\")\n",
    "    else:\n",
    "        print(\"Argument is valid\")\n",
    "\n",
    "\n",
    "# This is the recursive function that generates the different truth values\n",
    "def create_truth_values_recursive(num, val, truth_values, sentences):\n",
    "    new_truth_values = truth_values[:]\n",
    "    new_truth_values.append(val)\n",
    "    if num == 1:\n",
    "        return validity_check(new_truth_values, sentences)\n",
    "    else:\n",
    "        if not create_truth_values_recursive(num - 1, True, new_truth_values, sentences):\n",
    "            return False\n",
    "        if not create_truth_values_recursive(num - 1, False, new_truth_values, sentences):\n",
    "            return False\n",
    "        else:\n",
    "            return True\n",
    "\n",
    "# Checks if for the given truth values of atomic sentences, the argument is valid\n",
    "def validity_check(truth_values, sentences):\n",
    "    premises_true = True\n",
    "    for premise in sentences[0:-1]:\n",
    "        if not premise(truth_values):\n",
    "            premises_true = False\n",
    "    if  premises_true and not sentences[-1](truth_values):\n",
    "        return False\n",
    "    else:\n",
    "        return True\n",
    "\n",
    "\n",
    "validity_checker(5, sentences)"
   ]
  },
  {
   "cell_type": "markdown",
   "metadata": {
    "colab_type": "text",
    "id": "ExUp-7Gw96aE"
   },
   "source": [
    "#### 4. For the fallacious argument (<150 words): (1) Name the type fallacy or fallacies involved and explain why they are fallacies. (2) Explain how the fallacy or fallacies could be corrected and the effect of the correction on the meaning of the conclusion and/or premises. (Translating this part of the argument into symbolic logic is not required but could be useful for your explanations.)\n",
    "\n"
   ]
  },
  {
   "cell_type": "markdown",
   "metadata": {
    "colab_type": "text",
    "id": "YsxkPDx1rBfb"
   },
   "source": [
    "The argument is a non-sequitur of relevance. Just because you're not able to remember your grandma doesn't mean you would rather have terrible short-term memory than long-term memory. Perhaps you don't want to remember your grandma or you have other reason to prefer short-term memory. More statements are needed"
   ]
  },
  {
   "cell_type": "markdown",
   "metadata": {
    "colab_type": "text",
    "id": "y2oG5Knl96aF"
   },
   "source": [
    "## Part 2\n",
    "#### For the *other side* of the argument, craft two brief arguments using INDUCTIVE REASONING. One argument should be a strong induction and one should contain a fallacy. [#induction, #fallacies]\n",
    "\n"
   ]
  },
  {
   "cell_type": "markdown",
   "metadata": {
    "colab_type": "text",
    "id": "HQvBDgr596aG"
   },
   "source": [
    "Every time I had a conversation, I used short-term memory. Therefore I need short-term memory to have a conversation"
   ]
  },
  {
   "cell_type": "markdown",
   "metadata": {
    "colab_type": "text",
    "id": "oGNqAhO3rBfg"
   },
   "source": [
    "The nazis preffered long-term memory to short-term memory, and they were bad so we should prefer short-term memory to long-term memory"
   ]
  },
  {
   "cell_type": "markdown",
   "metadata": {
    "colab_type": "text",
    "id": "cGww68OA96aG"
   },
   "source": [
    "#### 1. Identify features of inductive reasoning present in these arguments (<75 words).\n",
    "\n"
   ]
  },
  {
   "cell_type": "markdown",
   "metadata": {
    "colab_type": "text",
    "id": "kN-8LmvT96aH"
   },
   "source": [
    "The first argument is a prediction based on past data. The second is based on a negative appeal to authority. Both are probabilistic and do not make the conclusion sure if the premises are true and the argument is strong."
   ]
  },
  {
   "cell_type": "markdown",
   "metadata": {
    "colab_type": "text",
    "id": "ZISzYUb996aH"
   },
   "source": [
    "#### 2. For the strong induction (<150 words): (1) Is this a specific type of induction? (2) Elaborate on the strength and reliability of the argument, and explain how the argument could be made stronger.\n",
    "\n"
   ]
  },
  {
   "cell_type": "markdown",
   "metadata": {
    "colab_type": "text",
    "id": "1t-aEk7IrBfl"
   },
   "source": [
    "This is a prediction. It is strong because it uses a very big and varied sample size. Nevertheless, it does not establish causation, so it is possible that there is another reason for the correlation, although our understanding leads us to behave that there is an actual causal link. For example, it is possible that using short-term memory is simply a by-product of having a conversation, and is not neccesary. It is also decently reliable because we do use our short-term memory to remember what people told us and react to what they said appropriately."
   ]
  },
  {
   "cell_type": "markdown",
   "metadata": {
    "colab_type": "text",
    "id": "mOYH0yys96aJ"
   },
   "source": [
    "#### 3. For the fallacious argument (<150 words): (1) Name the type fallacy or fallacies involved and explain why they are fallacies. (2) Explain how the fallacy or fallacies could be corrected and the effect of the correction on the meaning of the conclusion and/or premises.\n",
    "\n"
   ]
  },
  {
   "cell_type": "markdown",
   "metadata": {
    "colab_type": "text",
    "id": "xpDmcFz_rBfp"
   },
   "source": [
    "This is an ad hominem argument. It claims that because bad people believed something, that something is bad. This does not mean the argument is bad, the bad people may have had all kinds of reasons for believing it that do not relate to them being bad. We could correct this by making a strong appeal to authority. For example: The concensus among neurologists is that short-term memory is more important than long-term memory, therefore short-term memory is preferable to long-term memory. This is a significant change to the premises but it is needed to correct it. The conclusion does not change"
   ]
  },
  {
   "cell_type": "markdown",
   "metadata": {
    "colab_type": "text",
    "id": "34a3R2eT96aK"
   },
   "source": [
    "## Reflection\n",
    "\n",
    "### Reflect on what you learned in this assignment. Address the following points in <300 words total:  [#scienceoflearning, #selfawareness, and other HCs per use] \n",
    "#### 1. How did the principles from the science of learning deepen your knowledge of #induction, #deduction, #algorithms, and #fallacies while working on this assignment? (<100 words)\n",
    "#### 2. Throughout both sections, what did you learn about the connection between formal logic, language, computer code, and the use of logical thinking in the real world? (<100 words)\n",
    "#### 3. Describe how you obtained the knowledge to complete the assignment, being sure to include attributions to specific individuals or groups who helped you and how they helped. You should elaborate on any strategies you used to assess your own understanding of the material. (<100 words)\n"
   ]
  },
  {
   "cell_type": "markdown",
   "metadata": {
    "colab_type": "text",
    "id": "LaAGOt8ArBfs"
   },
   "source": [
    "Write your reflection here, addressing points 1, 2, and 3.\n",
    "\n",
    "1.  I used spaced practice in the assignment to deepen our understanding of the HCs. It uses the HCs in different context and dual codes (coding and proofs) and uses appropriate examples\n",
    "\n",
    "\n",
    "2.  Computers can make it easy to compute formal logic in ways that humans can't. But some things that humans can do easily, like translating to formal language and using direct proofs, are very difficult for computers. Formal logic is easy to represent in coding.\n",
    "\n",
    "\n",
    "3.  I used what I learned in class to do the assignment. I did not get any outside help. I did review some of the readings, and I lagged over things that I felt were confusing to make sure I understand them."
   ]
  },
  {
   "cell_type": "markdown",
   "metadata": {
    "colab_type": "text",
    "id": "yYJ11MAn96aL"
   },
   "source": [
    "### *Optional reflection questions*\n",
    "#### *Optional* 1: What side of the *would you rather* argument do believe was argued more effectively and why? (<200 words)\n",
    "\n"
   ]
  },
  {
   "cell_type": "markdown",
   "metadata": {
    "colab_type": "text",
    "id": "u6XvIE6YrBfu"
   },
   "source": [
    "Write your explanation here for the first optional reflection question."
   ]
  },
  {
   "cell_type": "markdown",
   "metadata": {
    "colab_type": "text",
    "id": "dPVnuZHR96aM"
   },
   "source": [
    "#### *Optional* 2: Create a new assignment problem for future classes that you think is a good test of the skills covered by one or more of these HCs. Provide the complete step-by-step solution, and a justification for why this is a good assignment problem. It should be entirely different from this assignment. *The FA team would like to thank Dima Lkhagvatogtokh (M22) for her submission to this question in 2018; her idea formed the basis for the assignment that you just completed!*\n",
    "\n"
   ]
  },
  {
   "cell_type": "markdown",
   "metadata": {
    "colab_type": "text",
    "id": "irIZ8Mc8rBfw"
   },
   "source": [
    "Write your explanation here for the second optional reflection question."
   ]
  },
  {
   "cell_type": "markdown",
   "metadata": {
    "colab_type": "text",
    "id": "gLG7YeDnrBfx"
   },
   "source": [
    "## You're done! \n",
    "\n",
    "You must upload TWO files:\n",
    "\n",
    "\n",
    "1. A **zipped folder** containing the .ipynb file and any other relevant files for running the notebook.\n",
    "\n",
    "\n",
    "2. A **PDF** of your entire assignment. This is to be submitted as a separate file, NOT simply inside the zipped folder. Run all cells before converting the notebook to a PDF, and triple check to make sure that the PDF is complete with all components (code, writing, images) visible and properly formatted. Email attachments will not be accepted. If you’re having difficulty converting your notebook to a PDF, please try the tips available in [this guide](https://docs.google.com/document/d/1gRMol9Ebbvyu1mvEKzma92o_N7ZbNXsPIb1QdQV0TeE/edit?usp=sharing)."
   ]
  },
  {
   "cell_type": "code",
   "execution_count": null,
   "metadata": {
    "colab": {},
    "colab_type": "code",
    "id": "fsm_lNEVrBfy"
   },
   "outputs": [],
   "source": []
  }
 ],
 "metadata": {
  "colab": {
   "collapsed_sections": [],
   "name": "CS50 Assignment 1 Notebook - Would You Rather.ipynb",
   "provenance": [],
   "version": "0.3.2"
  },
  "kernelspec": {
   "display_name": "Python 3",
   "language": "python",
   "name": "python3"
  },
  "language_info": {
   "codemirror_mode": {
    "name": "ipython",
    "version": 3
   },
   "file_extension": ".py",
   "mimetype": "text/x-python",
   "name": "python",
   "nbconvert_exporter": "python",
   "pygments_lexer": "ipython3",
   "version": "3.7.3"
  }
 },
 "nbformat": 4,
 "nbformat_minor": 1
}
