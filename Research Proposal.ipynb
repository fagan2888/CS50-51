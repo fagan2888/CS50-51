{
 "cells": [
  {
   "cell_type": "code",
   "execution_count": 55,
   "metadata": {},
   "outputs": [
    {
     "data": {
      "text/html": [
       "<div>\n",
       "<style scoped>\n",
       "    .dataframe tbody tr th:only-of-type {\n",
       "        vertical-align: middle;\n",
       "    }\n",
       "\n",
       "    .dataframe tbody tr th {\n",
       "        vertical-align: top;\n",
       "    }\n",
       "\n",
       "    .dataframe thead th {\n",
       "        text-align: right;\n",
       "    }\n",
       "</style>\n",
       "<table border=\"1\" class=\"dataframe\">\n",
       "  <thead>\n",
       "    <tr style=\"text-align: right;\">\n",
       "      <th></th>\n",
       "      <th>Galaxy Name</th>\n",
       "      <th>m-M</th>\n",
       "      <th>err</th>\n",
       "      <th>D</th>\n",
       "      <th>Method</th>\n",
       "      <th>REFCODE</th>\n",
       "      <th>GLON</th>\n",
       "      <th>GLAT</th>\n",
       "      <th>Type (RC3)</th>\n",
       "      <th>Vgsr (RC3)</th>\n",
       "    </tr>\n",
       "  </thead>\n",
       "  <tbody>\n",
       "    <tr>\n",
       "      <th>39</th>\n",
       "      <td>NGC 6822</td>\n",
       "      <td>23.31</td>\n",
       "      <td>0.03</td>\n",
       "      <td>0.459</td>\n",
       "      <td>Cepheids</td>\n",
       "      <td>2006ApJS..165..108S</td>\n",
       "      <td>25.4</td>\n",
       "      <td>-18.4</td>\n",
       "      <td>IBS9</td>\n",
       "      <td>44</td>\n",
       "    </tr>\n",
       "    <tr>\n",
       "      <th>42</th>\n",
       "      <td>NGC 6822</td>\n",
       "      <td>23.31</td>\n",
       "      <td>0.02</td>\n",
       "      <td>0.460</td>\n",
       "      <td>Cepheids</td>\n",
       "      <td>2006ApJ...647.1056G</td>\n",
       "      <td>25.4</td>\n",
       "      <td>-18.4</td>\n",
       "      <td>IBS9</td>\n",
       "      <td>44</td>\n",
       "    </tr>\n",
       "    <tr>\n",
       "      <th>0</th>\n",
       "      <td>DDO 069, Leo A</td>\n",
       "      <td>24.47</td>\n",
       "      <td>0.10</td>\n",
       "      <td>0.783</td>\n",
       "      <td>Cepheids</td>\n",
       "      <td>2006MmSAI..77..299G</td>\n",
       "      <td>196.9</td>\n",
       "      <td>52.4</td>\n",
       "      <td>IB.9</td>\n",
       "      <td>-19</td>\n",
       "    </tr>\n",
       "    <tr>\n",
       "      <th>4</th>\n",
       "      <td>M31, NGC 0224</td>\n",
       "      <td>24.54</td>\n",
       "      <td>0.07</td>\n",
       "      <td>0.809</td>\n",
       "      <td>Cepheids</td>\n",
       "      <td>2006ApJS.165..108S</td>\n",
       "      <td>121.2</td>\n",
       "      <td>-21.6</td>\n",
       "      <td>SAS3</td>\n",
       "      <td>-121</td>\n",
       "    </tr>\n",
       "    <tr>\n",
       "      <th>9</th>\n",
       "      <td>M33, NGC 0598</td>\n",
       "      <td>24.64</td>\n",
       "      <td>0.06</td>\n",
       "      <td>0.847</td>\n",
       "      <td>Cepheids</td>\n",
       "      <td>2006ApJS..165..108S</td>\n",
       "      <td>133.6</td>\n",
       "      <td>-31.3</td>\n",
       "      <td>SAS6</td>\n",
       "      <td>-46</td>\n",
       "    </tr>\n",
       "    <tr>\n",
       "      <th>1</th>\n",
       "      <td>DDO 216, Peg DIG</td>\n",
       "      <td>24.92</td>\n",
       "      <td>0.20</td>\n",
       "      <td>0.964</td>\n",
       "      <td>Cepheids</td>\n",
       "      <td>2006MmSAI..77..299G</td>\n",
       "      <td>94.8</td>\n",
       "      <td>-43.6</td>\n",
       "      <td>I..9</td>\n",
       "      <td>-20</td>\n",
       "    </tr>\n",
       "    <tr>\n",
       "      <th>41</th>\n",
       "      <td>NGC 3109</td>\n",
       "      <td>25.57</td>\n",
       "      <td>0.02</td>\n",
       "      <td>1.300</td>\n",
       "      <td>Cepheids</td>\n",
       "      <td>2006ApJ...648..375S</td>\n",
       "      <td>262.1</td>\n",
       "      <td>23.1</td>\n",
       "      <td>SBS9./</td>\n",
       "      <td>194</td>\n",
       "    </tr>\n",
       "    <tr>\n",
       "      <th>2</th>\n",
       "      <td>GR8, UGC 08091</td>\n",
       "      <td>26.45</td>\n",
       "      <td>0.07</td>\n",
       "      <td>1.950</td>\n",
       "      <td>Cepheids</td>\n",
       "      <td>2006MmSAI..77..299G</td>\n",
       "      <td>310.7</td>\n",
       "      <td>77.0</td>\n",
       "      <td>I..9</td>\n",
       "      <td>183</td>\n",
       "    </tr>\n",
       "    <tr>\n",
       "      <th>17</th>\n",
       "      <td>NGC 0300</td>\n",
       "      <td>26.48</td>\n",
       "      <td>0.03</td>\n",
       "      <td>1.980</td>\n",
       "      <td>Cepheids</td>\n",
       "      <td>2006ApJS..165..108S</td>\n",
       "      <td>299.2</td>\n",
       "      <td>-79.4</td>\n",
       "      <td>SAS7</td>\n",
       "      <td>98</td>\n",
       "    </tr>\n",
       "    <tr>\n",
       "      <th>24</th>\n",
       "      <td>NGC 2403</td>\n",
       "      <td>27.43</td>\n",
       "      <td>0.15</td>\n",
       "      <td>3.060</td>\n",
       "      <td>Cepheids</td>\n",
       "      <td>2006ApJS..165..108S</td>\n",
       "      <td>150.6</td>\n",
       "      <td>29.2</td>\n",
       "      <td>SXS6</td>\n",
       "      <td>226</td>\n",
       "    </tr>\n",
       "  </tbody>\n",
       "</table>\n",
       "</div>"
      ],
      "text/plain": [
       "         Galaxy Name    m-M   err      D    Method              REFCODE  \\\n",
       "39          NGC 6822  23.31  0.03  0.459  Cepheids  2006ApJS..165..108S   \n",
       "42          NGC 6822  23.31  0.02  0.460  Cepheids  2006ApJ...647.1056G   \n",
       "0     DDO 069, Leo A  24.47  0.10  0.783  Cepheids  2006MmSAI..77..299G   \n",
       "4      M31, NGC 0224  24.54  0.07  0.809  Cepheids   2006ApJS.165..108S   \n",
       "9      M33, NGC 0598  24.64  0.06  0.847  Cepheids  2006ApJS..165..108S   \n",
       "1   DDO 216, Peg DIG  24.92  0.20  0.964  Cepheids  2006MmSAI..77..299G   \n",
       "41          NGC 3109  25.57  0.02  1.300  Cepheids  2006ApJ...648..375S   \n",
       "2     GR8, UGC 08091  26.45  0.07  1.950  Cepheids  2006MmSAI..77..299G   \n",
       "17          NGC 0300  26.48  0.03  1.980  Cepheids  2006ApJS..165..108S   \n",
       "24          NGC 2403  27.43  0.15  3.060  Cepheids  2006ApJS..165..108S   \n",
       "\n",
       "     GLON  GLAT Type (RC3)  Vgsr (RC3)  \n",
       "39   25.4 -18.4       IBS9          44  \n",
       "42   25.4 -18.4       IBS9          44  \n",
       "0   196.9  52.4       IB.9         -19  \n",
       "4   121.2 -21.6       SAS3        -121  \n",
       "9   133.6 -31.3       SAS6         -46  \n",
       "1    94.8 -43.6       I..9         -20  \n",
       "41  262.1  23.1     SBS9./         194  \n",
       "2   310.7  77.0       I..9         183  \n",
       "17  299.2 -79.4       SAS7          98  \n",
       "24  150.6  29.2       SXS6         226  "
      ]
     },
     "execution_count": 55,
     "metadata": {},
     "output_type": "execute_result"
    }
   ],
   "source": [
    "import pandas as pd\n",
    "filename = 'galaxy_data.csv'\n",
    "data = pd.read_csv(filename)\n",
    "data = data.astype({'D': 'float'}).sort_values(by=['D'])\n",
    "data = data.astype({'m-M': 'float'})\n",
    "data.head(10)"
   ]
  },
  {
   "cell_type": "code",
   "execution_count": 49,
   "metadata": {},
   "outputs": [
    {
     "name": "stdout",
     "output_type": "stream",
     "text": [
      "0.6371896503253109\n",
      "61.584212466501846\n"
     ]
    },
    {
     "data": {
      "text/plain": [
       "Text(0.5, 1.0, 'Galaxy reccesional speed by distance')"
      ]
     },
     "execution_count": 49,
     "metadata": {},
     "output_type": "execute_result"
    },
    {
     "data": {
      "image/png": "[encoded data removed]",
      "text/plain": [
       "<Figure size 432x288 with 1 Axes>"
      ]
     },
     "metadata": {
      "needs_background": "light"
     },
     "output_type": "display_data"
    }
   ],
   "source": [
    "import matplotlib.pyplot as plt\n",
    "from sklearn.linear_model import LinearRegression\n",
    "X = data.iloc[:, 3].values.reshape(-1, 1)\n",
    "Y = data.iloc[:, 9].values.reshape(-1, 1)\n",
    "lr = LinearRegression(fit_intercept=False)\n",
    "lr.fit(X, Y)\n",
    "fit_line = lr.predict(X)\n",
    "print(lr.score(X,Y))\n",
    "print(lr.coef_[0][0])\n",
    "plt.scatter(X, Y)\n",
    "plt.plot(X, fit_line, color='red')\n",
    "plt.xlabel('Distance (Mpc)')\n",
    "plt.ylabel('Reccesional Velocity (km/s)')\n",
    "plt.grid()\n",
    "plt.title('Galaxy reccesional speed by distance')"
   ]
  },
  {
   "cell_type": "code",
   "execution_count": 60,
   "metadata": {},
   "outputs": [
    {
     "data": {
      "text/plain": [
       "Text(0.5, 1.0, 'Galaxy reccesional speed by distance')"
      ]
     },
     "execution_count": 60,
     "metadata": {},
     "output_type": "execute_result"
    },
    {
     "data": {
      "image/png": "[encoded data removed]",
      "text/plain": [
       "<Figure size 432x288 with 1 Axes>"
      ]
     },
     "metadata": {
      "needs_background": "light"
     },
     "output_type": "display_data"
    }
   ],
   "source": [
    "import numpy as np\n",
    "data['Absolute luminosity'] = data['m-M'] / np.log(data['D'].astype('float'))\n",
    "from scipy import stats\n",
    "data = data[(np.abs((data['Absolute luminosity'] - data['Absolute luminosity'].mean()) / data['Absolute luminosity'].std()) < 3)]\n",
    "plt.hist(data['Absolute luminosity'])\n",
    "plt.xlabel('Luminosity divided by the log of distance (mag/Mpc)')\n",
    "plt.ylabel('Reccesional Velocity (km/s)')\n",
    "plt.title('Galaxy reccesional speed by distance')"
   ]
  },
  {
   "cell_type": "code",
   "execution_count": null,
   "metadata": {},
   "outputs": [],
   "source": []
  },
  {
   "cell_type": "code",
   "execution_count": null,
   "metadata": {},
   "outputs": [],
   "source": []
  }
 ],
 "metadata": {
  "kernelspec": {
   "display_name": "Python 3",
   "language": "python",
   "name": "python3"
  },
  "language_info": {
   "codemirror_mode": {
    "name": "ipython",
    "version": 3
   },
   "file_extension": ".py",
   "mimetype": "text/x-python",
   "name": "python",
   "nbconvert_exporter": "python",
   "pygments_lexer": "ipython3",
   "version": "3.7.3"
  }
 },
 "nbformat": 4,
 "nbformat_minor": 2
}
