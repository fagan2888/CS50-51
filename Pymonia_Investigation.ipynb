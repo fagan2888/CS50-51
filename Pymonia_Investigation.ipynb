{
 "cells": [
  {
   "cell_type": "markdown",
   "metadata": {},
   "source": [
    "## Pymonia Investigation\n",
    "\n",
    "The citizens of _Minervopolis_ are in a panic! About a third of the population is suspected of having a fever. Even worse, a newly discovered disease, _Pymonia_, has been detected among the population. Some limited data have been collected on the incidence and symptoms of this disease among Minervopolis’ approximately 100,000 residents. There are two types of measurements collected so far:\n",
    "\n",
    "\n",
    "1. **fever.csv**: two columns of data indicating diagnosis (in column 1) and highest recorded fever in Fahrenheit since symptoms began (in column 2). This dataset contains a sample of people infected with Pymonia, labeled with `Py` and a sample of people without any virus, labeled with `No`. Each row represents a different patient. All these patients were sampled uniformly from the population of people reporting fevers, and sorted according to whether they had Pymonia or not.\n",
    "\n",
    "\n",
    "2. **WBC.csv**: two columns of data indicating diagnosis (in column 1) and white blood cell count (in column 2). Note that a white blood cell count below 1700 is considered abnormally low, and a value below 500 indicates a high risk of secondary infection. Each row represents a different patient. These patients were sampled uniformly from the total population of Minervaopolis.\n",
    "\n",
    "\n",
    "*Should the citizens of Minervopolis be concerned about the Pymonia virus?*"
   ]
  },
  {
   "cell_type": "code",
   "execution_count": 1,
   "metadata": {},
   "outputs": [
    {
     "name": "stdout",
     "output_type": "stream",
     "text": [
      "fever data dimensions: (89, 2)\n",
      "WBC data dimensions: (69, 2)\n"
     ]
    }
   ],
   "source": [
    "# import useful packages\n",
    "import pandas as pd\n",
    "pd.set_option('max_rows', 10)\n",
    "import numpy as np\n",
    "import matplotlib.pyplot as plt\n",
    "import matplotlib\n",
    "from scipy import stats\n",
    "\n",
    "# read in two data files\n",
    "feverdata = pd.read_csv('fever.csv')\n",
    "WBCdata = pd.read_csv('WBC.csv')\n",
    "\n",
    "# print the size (rows, columns)\n",
    "print('fever data dimensions:',feverdata.shape)\n",
    "print('WBC data dimensions:',WBCdata.shape)"
   ]
  },
  {
   "cell_type": "code",
   "execution_count": 2,
   "metadata": {},
   "outputs": [
    {
     "data": {
      "text/html": [
       "<div>\n",
       "<style scoped>\n",
       "    .dataframe tbody tr th:only-of-type {\n",
       "        vertical-align: middle;\n",
       "    }\n",
       "\n",
       "    .dataframe tbody tr th {\n",
       "        vertical-align: top;\n",
       "    }\n",
       "\n",
       "    .dataframe thead th {\n",
       "        text-align: right;\n",
       "    }\n",
       "</style>\n",
       "<table border=\"1\" class=\"dataframe\">\n",
       "  <thead>\n",
       "    <tr style=\"text-align: right;\">\n",
       "      <th></th>\n",
       "      <th>Diagnosis</th>\n",
       "      <th>High Temperature</th>\n",
       "    </tr>\n",
       "  </thead>\n",
       "  <tbody>\n",
       "    <tr>\n",
       "      <th>0</th>\n",
       "      <td>No</td>\n",
       "      <td>105.0</td>\n",
       "    </tr>\n",
       "    <tr>\n",
       "      <th>1</th>\n",
       "      <td>No</td>\n",
       "      <td>101.0</td>\n",
       "    </tr>\n",
       "    <tr>\n",
       "      <th>2</th>\n",
       "      <td>No</td>\n",
       "      <td>104.0</td>\n",
       "    </tr>\n",
       "    <tr>\n",
       "      <th>3</th>\n",
       "      <td>No</td>\n",
       "      <td>101.0</td>\n",
       "    </tr>\n",
       "    <tr>\n",
       "      <th>4</th>\n",
       "      <td>No</td>\n",
       "      <td>101.0</td>\n",
       "    </tr>\n",
       "    <tr>\n",
       "      <th>...</th>\n",
       "      <td>...</td>\n",
       "      <td>...</td>\n",
       "    </tr>\n",
       "    <tr>\n",
       "      <th>84</th>\n",
       "      <td>Py</td>\n",
       "      <td>102.5</td>\n",
       "    </tr>\n",
       "    <tr>\n",
       "      <th>85</th>\n",
       "      <td>Py</td>\n",
       "      <td>101.0</td>\n",
       "    </tr>\n",
       "    <tr>\n",
       "      <th>86</th>\n",
       "      <td>Py</td>\n",
       "      <td>102.5</td>\n",
       "    </tr>\n",
       "    <tr>\n",
       "      <th>87</th>\n",
       "      <td>Py</td>\n",
       "      <td>102.0</td>\n",
       "    </tr>\n",
       "    <tr>\n",
       "      <th>88</th>\n",
       "      <td>Py</td>\n",
       "      <td>101.0</td>\n",
       "    </tr>\n",
       "  </tbody>\n",
       "</table>\n",
       "<p>89 rows × 2 columns</p>\n",
       "</div>"
      ],
      "text/plain": [
       "   Diagnosis  High Temperature\n",
       "0         No             105.0\n",
       "1         No             101.0\n",
       "2         No             104.0\n",
       "3         No             101.0\n",
       "4         No             101.0\n",
       "..       ...               ...\n",
       "84        Py             102.5\n",
       "85        Py             101.0\n",
       "86        Py             102.5\n",
       "87        Py             102.0\n",
       "88        Py             101.0\n",
       "\n",
       "[89 rows x 2 columns]"
      ]
     },
     "execution_count": 2,
     "metadata": {},
     "output_type": "execute_result"
    }
   ],
   "source": [
    "# look at some of the fever data\n",
    "feverdata"
   ]
  },
  {
   "cell_type": "code",
   "execution_count": 3,
   "metadata": {},
   "outputs": [
    {
     "data": {
      "text/html": [
       "<div>\n",
       "<style scoped>\n",
       "    .dataframe tbody tr th:only-of-type {\n",
       "        vertical-align: middle;\n",
       "    }\n",
       "\n",
       "    .dataframe tbody tr th {\n",
       "        vertical-align: top;\n",
       "    }\n",
       "\n",
       "    .dataframe thead th {\n",
       "        text-align: right;\n",
       "    }\n",
       "</style>\n",
       "<table border=\"1\" class=\"dataframe\">\n",
       "  <thead>\n",
       "    <tr style=\"text-align: right;\">\n",
       "      <th></th>\n",
       "      <th>Diagnosis</th>\n",
       "      <th>WBC</th>\n",
       "    </tr>\n",
       "  </thead>\n",
       "  <tbody>\n",
       "    <tr>\n",
       "      <th>0</th>\n",
       "      <td>No</td>\n",
       "      <td>9211</td>\n",
       "    </tr>\n",
       "    <tr>\n",
       "      <th>1</th>\n",
       "      <td>No</td>\n",
       "      <td>530</td>\n",
       "    </tr>\n",
       "    <tr>\n",
       "      <th>2</th>\n",
       "      <td>No</td>\n",
       "      <td>776</td>\n",
       "    </tr>\n",
       "    <tr>\n",
       "      <th>3</th>\n",
       "      <td>No</td>\n",
       "      <td>110</td>\n",
       "    </tr>\n",
       "    <tr>\n",
       "      <th>4</th>\n",
       "      <td>No</td>\n",
       "      <td>9334</td>\n",
       "    </tr>\n",
       "    <tr>\n",
       "      <th>...</th>\n",
       "      <td>...</td>\n",
       "      <td>...</td>\n",
       "    </tr>\n",
       "    <tr>\n",
       "      <th>64</th>\n",
       "      <td>Py</td>\n",
       "      <td>6566</td>\n",
       "    </tr>\n",
       "    <tr>\n",
       "      <th>65</th>\n",
       "      <td>Py</td>\n",
       "      <td>1328</td>\n",
       "    </tr>\n",
       "    <tr>\n",
       "      <th>66</th>\n",
       "      <td>Py</td>\n",
       "      <td>687</td>\n",
       "    </tr>\n",
       "    <tr>\n",
       "      <th>67</th>\n",
       "      <td>Py</td>\n",
       "      <td>2525</td>\n",
       "    </tr>\n",
       "    <tr>\n",
       "      <th>68</th>\n",
       "      <td>Py</td>\n",
       "      <td>2859</td>\n",
       "    </tr>\n",
       "  </tbody>\n",
       "</table>\n",
       "<p>69 rows × 2 columns</p>\n",
       "</div>"
      ],
      "text/plain": [
       "   Diagnosis   WBC\n",
       "0         No  9211\n",
       "1         No   530\n",
       "2         No   776\n",
       "3         No   110\n",
       "4         No  9334\n",
       "..       ...   ...\n",
       "64        Py  6566\n",
       "65        Py  1328\n",
       "66        Py   687\n",
       "67        Py  2525\n",
       "68        Py  2859\n",
       "\n",
       "[69 rows x 2 columns]"
      ]
     },
     "execution_count": 3,
     "metadata": {},
     "output_type": "execute_result"
    }
   ],
   "source": [
    "# look at some of  the WBC data\n",
    "WBCdata"
   ]
  },
  {
   "cell_type": "code",
   "execution_count": 3,
   "metadata": {},
   "outputs": [],
   "source": [
    "# define a function to print out some simple statistics\n",
    "def print_stats(list):\n",
    "    print('count:',len(list))\n",
    "    print('mean:',np.mean(list))\n",
    "    print('std:',np.std(list,ddof=1),\"\\n\")\n",
    "\n",
    "# define a function to make two histograms for each category\n",
    "def double_histogram_maker(list1,list2,category):\n",
    "    fig, axs = plt.subplots(1,2,figsize=(12,4))\n",
    "    axs[0].hist(list1);\n",
    "    axs[1].hist(list2);\n",
    "    axs[0].title.set_text('No Virus')\n",
    "    axs[1].title.set_text('Pymonia')\n",
    "    for ax in axs.flat:\n",
    "        ax.set(xlabel=category, ylabel='Frequency')"
   ]
  },
  {
   "cell_type": "code",
   "execution_count": 5,
   "metadata": {},
   "outputs": [
    {
     "name": "stdout",
     "output_type": "stream",
     "text": [
      "--No virus--\n",
      "count: 50\n",
      "mean: 101.59\n",
      "std: 1.544212367757328 \n",
      "\n",
      "--Pymonia--\n",
      "count: 39\n",
      "mean: 102.91025641025641\n",
      "std: 2.344848201999088 \n",
      "\n"
     ]
    },
    {
     "data": {
      "image/png": "[encoded data removed]",
      "text/plain": [
       "<Figure size 864x288 with 2 Axes>"
      ]
     },
     "metadata": {
      "needs_background": "light"
     },
     "output_type": "display_data"
    }
   ],
   "source": [
    "# FEVER DATA:\n",
    "\n",
    "# define two new lists to separate the fever data by diagnosis:\n",
    "# 'No' for no virus and 'Py' for Pymonia\n",
    "fever_No = list(feverdata[feverdata.Diagnosis == 'No'].values[:,1])\n",
    "fever_Py = list(feverdata[feverdata.Diagnosis == 'Py'].values[:,1])\n",
    "\n",
    "# print the stats for each category\n",
    "print('--No virus--')\n",
    "print_stats(fever_No)\n",
    "print('--Pymonia--')\n",
    "print_stats(fever_Py)\n",
    "\n",
    "# make histograms grouped by diagnosis by calling function defined above\n",
    "double_histogram_maker(fever_No,fever_Py,'Fever Temperature, Fahrenheit')"
   ]
  },
  {
   "cell_type": "code",
   "execution_count": 6,
   "metadata": {},
   "outputs": [
    {
     "name": "stdout",
     "output_type": "stream",
     "text": [
      "--No virus--\n",
      "count: 44\n",
      "mean: 5175.681818181818\n",
      "std: 3029.292816182246 \n",
      "\n",
      "--Pymonia--\n",
      "count: 25\n",
      "mean: 3314.16\n",
      "std: 2906.065964495644 \n",
      "\n"
     ]
    },
    {
     "data": {
      "image/png": "[encoded data removed]",
      "text/plain": [
       "<Figure size 864x288 with 2 Axes>"
      ]
     },
     "metadata": {
      "needs_background": "light"
     },
     "output_type": "display_data"
    }
   ],
   "source": [
    "# WBC DATA:\n",
    "\n",
    "# define two new lists to separate the WBC data by diagnosis:\n",
    "# 'No' for no virus and 'Py' for Pymonia\n",
    "WBC_No = list(WBCdata[WBCdata.Diagnosis == 'No'].values[:,1])\n",
    "WBC_Py = list(WBCdata[WBCdata.Diagnosis == 'Py'].values[:,1])\n",
    "\n",
    "# print the stats for each category\n",
    "print('--No virus--')\n",
    "print_stats(WBC_No)\n",
    "print('--Pymonia--')\n",
    "print_stats(WBC_Py)\n",
    "\n",
    "# make histograms grouped by diagnosis by calling previously defined function\n",
    "double_histogram_maker(WBC_No,WBC_Py,'WBC Count')"
   ]
  }
 ],
 "metadata": {
  "kernelspec": {
   "display_name": "Python 3",
   "language": "python",
   "name": "python3"
  },
  "language_info": {
   "codemirror_mode": {
    "name": "ipython",
    "version": 3
   },
   "file_extension": ".py",
   "mimetype": "text/x-python",
   "name": "python",
   "nbconvert_exporter": "python",
   "pygments_lexer": "ipython3",
   "version": "3.7.3"
  }
 },
 "nbformat": 4,
 "nbformat_minor": 1
}
