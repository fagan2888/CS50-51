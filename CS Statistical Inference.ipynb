{
 "cells": [
  {
   "cell_type": "code",
   "execution_count": 1,
   "metadata": {},
   "outputs": [],
   "source": [
    "# Import pandas for data analysis, stats for working with distributions, and matplotlib for graphing\n",
    "import pandas as pd\n",
    "import scipy.stats as stats\n",
    "import matplotlib.pyplot as plt\n",
    "\n",
    "# Read the data\n",
    "data = pd.read_csv(\"student-mat.csv\", sep=\";\")\n",
    "\n",
    "# Set variables for the groups we are going to study\n",
    "all_students = data['G3']\n",
    "romantic_yes = data[data['romantic'] == 'yes']['G3'] # Students in a romantic relationship\n",
    "romantic_no = data[data['romantic'] == 'no']['G3'] # Students not in a relationship"
   ]
  },
  {
   "cell_type": "code",
   "execution_count": 5,
   "metadata": {},
   "outputs": [
    {
     "name": "stdout",
     "output_type": "stream",
     "text": [
      "Descriptive stats for final grade\n",
      "Sample: 395\n",
      "Mean: 10.415189873417722\n",
      "Standard Deviation: 4.5814426109978434\n",
      "Median: 11.0\n",
      "Mode: 10\n",
      "Range: [ 0 , 20 ]\n",
      "Descriptive stats for final grade\n",
      "Sample: 132\n",
      "Mean: 9.575757575757576\n",
      "Standard Deviation: 4.856916390702853\n",
      "Median: 11.0\n",
      "Mode: 0\n",
      "Range: [ 0 , 18 ]\n",
      "Descriptive stats for final grade\n",
      "Sample: 263\n",
      "Mean: 10.836501901140684\n",
      "Standard Deviation: 4.385946319915415\n",
      "Median: 11.0\n",
      "Mode: 10\n",
      "Range: [ 0 , 20 ]\n"
     ]
    }
   ],
   "source": [
    "# Prints the sample size, mean, standard deviation, median, mode and range of a column from a dataframe\n",
    "def print_desc_stats(df):\n",
    "    print(\"Descriptive stats for final grade\")\n",
    "    print(\"Sample:\", df.shape[0])\n",
    "    print(\"Mean:\", df.mean()) \n",
    "    print(\"Standard Deviation:\", df.std())\n",
    "    print(\"Median:\", df.median())\n",
    "    print(\"Mode:\", df.mode()[0])\n",
    "    print(\"Range: [\", df.min(), \",\", df.max(), \"]\")\n",
    "    \n",
    "# Print them for our groups of interest\n",
    "print_desc_stats(all_students)\n",
    "print_desc_stats(romantic_yes)\n",
    "print_desc_stats(romantic_no)"
   ]
  },
  {
   "cell_type": "code",
   "execution_count": 43,
   "metadata": {},
   "outputs": [
    {
     "data": {
      "image/png": "[encoded data removed]",
      "text/plain": [
       "<Figure size 432x288 with 1 Axes>"
      ]
     },
     "metadata": {
      "needs_background": "light"
     },
     "output_type": "display_data"
    },
    {
     "data": {
      "image/png": "[encoded data removed]",
      "text/plain": [
       "<Figure size 432x288 with 1 Axes>"
      ]
     },
     "metadata": {
      "needs_background": "light"
     },
     "output_type": "display_data"
    },
    {
     "data": {
      "image/png": "[encoded data removed]",
      "text/plain": [
       "<Figure size 432x288 with 1 Axes>"
      ]
     },
     "metadata": {
      "needs_background": "light"
     },
     "output_type": "display_data"
    }
   ],
   "source": [
    "# Creates graphs of the distribution of grades\n",
    "def print_bar_chart(df, xvalues):\n",
    "    yvalues = []\n",
    "    for i in xvalues: # count how many instances of every grade we have\n",
    "        yvalues.append(df[df == i].shape[0])\n",
    "    plt.bar(xvalues, yvalues)\n",
    "    plt.xticks(xvalues)\n",
    "    plt.ylabel(\"Frequency\")\n",
    "    plt.xlabel(\"Final Grade\")\n",
    "    plt.show()\n",
    "        \n",
    "print_bar_chart(all_students, list(range(0,21)))\n",
    "print_bar_chart(romantic_yes, list(range(0,21)))\n",
    "print_bar_chart(romantic_no, list(range(0,21)))"
   ]
  },
  {
   "cell_type": "code",
   "execution_count": 14,
   "metadata": {},
   "outputs": [
    {
     "name": "stdout",
     "output_type": "stream",
     "text": [
      "(9.961995472083377, 10.868384274752067)\n"
     ]
    }
   ],
   "source": [
    "#Constructs a two-sided confidence interval for the mean of a given dataset\n",
    "def confidence_interval(df, alpha):\n",
    "    # Calculate standard deviation, mean, sample size, standard error\n",
    "    std = df.std()\n",
    "    mean = df.mean()\n",
    "    n = df.shape[0]\n",
    "    SE = std / n**0.5\n",
    "    # Find the t value (a.k.a. sigma)\n",
    "    sigma = stats.t.ppf(1 - alpha / 2, n)\n",
    "    # Find lower and upper bounds\n",
    "    low = mean - SE * sigma\n",
    "    high = mean + SE * sigma\n",
    "    return low, high\n",
    "\n",
    "#Find confidence intervals for all students' final grades\n",
    "print(confidence_interval(all_students, 0.05))"
   ]
  },
  {
   "cell_type": "code",
   "execution_count": 3,
   "metadata": {},
   "outputs": [
    {
     "name": "stdout",
     "output_type": "stream",
     "text": [
      "0.013212372420117866\n"
     ]
    }
   ],
   "source": [
    "# Performs hypothesis testing for two-tailed difference in means between two groups\n",
    "def test_hypothesis_means_diff(group1, group2):\n",
    "    s1 = group1.std() #standard deviation\n",
    "    s2 = group2.std()\n",
    "    n1 = group1.shape[0] # Sample size\n",
    "    n2 = group2.shape[0]\n",
    "    n = min(n2 - 1, n1 - 1) # degrees of freedom for using the t distribution\n",
    "    diff_SE = ((s1**2 / n1) + (s2**2 / n2))**0.5 # Standard error for difference between means\n",
    "    diff_means = group1.mean() - group2.mean() # Difference betweem means\n",
    "    t = diff_means / diff_SE # t value\n",
    "    p = stats.t.cdf(t, n) * 2 # p value\n",
    "    return p\n",
    "\n",
    "# Perform this test for students who are in a relationship and those who are not\n",
    "print(test_hypothesis_means_diff(romantic_yes, romantic_no))"
   ]
  },
  {
   "cell_type": "code",
   "execution_count": 4,
   "metadata": {},
   "outputs": [
    {
     "name": "stdout",
     "output_type": "stream",
     "text": [
      "-0.27789109791176436\n"
     ]
    }
   ],
   "source": [
    "# Calculates Cohen's d for difference of means\n",
    "def cohens_d(group1, group2):\n",
    "    s1 = group1.std() #standard deviation\n",
    "    s2 = group2.std()\n",
    "    n1 = group1.shape[0] # Sample size\n",
    "    n2 = group2.shape[0]\n",
    "    diff_means = group1.mean() - group2.mean() # Difference betweem means\n",
    "    s = ((((n1 - 1) * s1**2) + ((n2 - 1) * s2**2)) / (n1 + n2))**0.5 # Pooled standard deviation\n",
    "    d = diff_means / s # Cohen's d\n",
    "    return d\n",
    "\n",
    "# Perform this test for students who are in a relationship and those who are not\n",
    "print(cohens_d(romantic_yes, romantic_no))"
   ]
  },
  {
   "cell_type": "code",
   "execution_count": null,
   "metadata": {},
   "outputs": [],
   "source": []
  }
 ],
 "metadata": {
  "kernelspec": {
   "display_name": "Python 3",
   "language": "python",
   "name": "python3"
  },
  "language_info": {
   "codemirror_mode": {
    "name": "ipython",
    "version": 3
   },
   "file_extension": ".py",
   "mimetype": "text/x-python",
   "name": "python",
   "nbconvert_exporter": "python",
   "pygments_lexer": "ipython3",
   "version": "3.7.3"
  }
 },
 "nbformat": 4,
 "nbformat_minor": 2
}
